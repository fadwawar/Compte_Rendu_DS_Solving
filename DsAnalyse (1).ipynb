{
 "cells": [
  {
   "cell_type": "code",
   "execution_count": 1,
   "id": "37698ec0-157f-4c5e-989f-341b20294670",
   "metadata": {},
   "outputs": [
    {
     "ename": "SyntaxError",
     "evalue": "invalid syntax (566691945.py, line 58)",
     "output_type": "error",
     "traceback": [
      "\u001b[1;36m  Input \u001b[1;32mIn [1]\u001b[1;36m\u001b[0m\n\u001b[1;33m    s += I(a + i h) * h  # Ajout du produit I(s) * h pour chaque segment\u001b[0m\n\u001b[1;37m                 ^\u001b[0m\n\u001b[1;31mSyntaxError\u001b[0m\u001b[1;31m:\u001b[0m invalid syntax\n"
     ]
    }
   ],
   "source": [
    "import numpy as np\n",
    "\n",
    "# Paramètres de l'équation différentielle\n",
    "delta = 0.1\n",
    "alpha = 0.2\n",
    "mu = 0.05\n",
    "\n",
    "# Conditions initiales\n",
    "E0 = 1000\n",
    "I0 = 100\n",
    "R0 = 0\n",
    "\n",
    "# Pas de temps (en jours)\n",
    "dt = 0.01\n",
    "\n",
    "# Nombre de jours à simuler\n",
    "days = 365\n",
    "\n",
    "# Vecteurs pour stocker les résultats de la simulation\n",
    "E = []\n",
    "I = []\n",
    "R = []\n",
    "\n",
    "# Boucle de simulation\n",
    "for i in range(int(days/dt)):\n",
    "  # État de E(t)\n",
    "  Et = E[-1] if E else E0\n",
    "\n",
    "  # État de I(t)\n",
    "  It = I[-1] if I else I0\n",
    "\n",
    "  # État de R(t)\n",
    "  Rt = R[-1] if R else R0\n",
    "\n",
    "  # Évolution de E(t), I(t) et R(t) au temps t+dt\n",
    "  E.append(Et - deltaEtdt)\n",
    "  I.append(It + deltaEtdt - alphaItdt)\n",
    "  R.append(Rt + alphaItdt - muRtdt)\n",
    "\n",
    "# Affichage des résultats\n",
    "import matplotlib.pyplot as plt\n",
    "\n",
    "plt.plot(E, label='E')\n",
    "plt.plot(I, label='I')\n",
    "plt.plot(R, label='R')\n",
    "plt.legend()\n",
    "plt.show()\n",
    "def I(s):\n",
    "    # Remplacez cette ligne par la définition de votre fonction I(s)\n",
    "    return s*2\n",
    "\n",
    "def integrale(I, a, b):\n",
    "    # Calcul de l'intégrale de a à b de I(s)ds en utilisant la définition de l'intégrale\n",
    "    n = 1000  # Nombre de segments de la somme de Riemann\n",
    "    h = (b - a) / n  # Largeur de chaque segment\n",
    "    s = 0  # Initialisation de la somme à 0\n",
    "    for i in range(n):\n",
    "        s += I(a + i h) * h  # Ajout du produit I(s) * h pour chaque segment\n",
    "    return s\n",
    "\n",
    "# Calcul de l'intégrale de 14 à 0 de I(s)ds\n",
    "resultat = integrale(I, 14, 0)\n",
    "print(resultat)"
   ]
  },
  {
   "cell_type": "code",
   "execution_count": null,
   "id": "81474ce1-88ba-4eca-b832-9a8e5ac194d6",
   "metadata": {},
   "outputs": [],
   "source": []
  },
  {
   "cell_type": "code",
   "execution_count": null,
   "id": "dc669a81-b69e-43f1-b1ca-e9c2e7aa465c",
   "metadata": {},
   "outputs": [],
   "source": []
  }
 ],
 "metadata": {
  "kernelspec": {
   "display_name": "Python 3 (ipykernel)",
   "language": "python",
   "name": "python3"
  },
  "language_info": {
   "codemirror_mode": {
    "name": "ipython",
    "version": 3
   },
   "file_extension": ".py",
   "mimetype": "text/x-python",
   "name": "python",
   "nbconvert_exporter": "python",
   "pygments_lexer": "ipython3",
   "version": "3.9.12"
  }
 },
 "nbformat": 4,
 "nbformat_minor": 5
}
